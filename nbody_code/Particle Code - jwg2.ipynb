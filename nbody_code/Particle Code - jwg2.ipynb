{
 "cells": [
  {
   "cell_type": "code",
   "execution_count": 40,
   "metadata": {
    "collapsed": true
   },
   "outputs": [],
   "source": [
    "#Particle class from lecture with z-component added\n",
    "class Particle:\n",
    "    def __init__(self, x, y, z, vx, vy, vz, mass):\n",
    "        self.x = x\n",
    "        self.y = y\n",
    "        self.z = z\n",
    "        self.vx = vx\n",
    "        self.vy = vy\n",
    "        self.vz = vz\n",
    "        self.mass = mass\n",
    "        \n",
    "    def update(self, Fx, Fy, Fz, dt):\n",
    "        self.vx = self.vx + Fx / self.mass * dt\n",
    "        self.vy = self.vy + Fy / self.mass * dt\n",
    "        self.vz = self.vz + Fz / self.mass * dt\n",
    "        self.x = self.x + self.vx * dt\n",
    "        self.y = self.y + self.vy * dt\n",
    "        self.z = self.z + self.vz * dt\n",
    "        \n",
    "    def pairwise_force(self, particle):\n",
    "        r2 = (self.x - particle.x)**2.0 + \\\n",
    "             (self.y - particle.y)**2.0\n",
    "        F_mag = -(G * particle.mass * self.mass)/r2\n",
    "        F_x = (self.x - particle.x)/r2**0.5 * F_mag\n",
    "        F_y = (self.y - particle.y)/r2**0.5 * F_mag\n",
    "        F_z = (self.z - particle.z)/r2**0.5 * F_mag\n",
    "        return (F_x, F_y, F_z)\n",
    "    def print_particle(self):\n",
    "        print(\"Position:\", self.x, \",\", self.y, \",\", self.z)"
   ]
  },
  {
   "cell_type": "code",
   "execution_count": null,
   "metadata": {
    "collapsed": true
   },
   "outputs": [],
   "source": [
    "class Engine:\n",
    "    def __init__(self, background, particles):\n",
    "        self.background = background\n",
    "        self.particles = particles\n",
    "        self.t = 0.0\n",
    "    def direct_euler(self, timestep):\n",
    "        for particle in self.particles:\n",
    "            F_x, F_y, F_z = euler_calc(particle)\n",
    "    \n",
    "    def euler_calc(self, particle):\n",
    "        F_x = self.background[0]\n",
    "        F_y = self.background[1]\n",
    "        F_z = self.background[2]\n",
    "        for other in particles:\n",
    "            G = 6.674*10**-11\n",
    "            F_mag = "
   ]
  },
  {
   "cell_type": "code",
   "execution_count": 54,
   "metadata": {
    "scrolled": false
   },
   "outputs": [],
   "source": [
    "import h5py\n",
    "\n",
    "import numpy as np\n",
    "\n",
    "############################\n",
    "#NUMBER OF PARTICLES TO SIM#\n",
    "############################\n",
    "n = 3\n",
    "\n",
    "# Create random data\n",
    "particle_positions = np.random.uniform(-10, 10, size=(n, 3))\n",
    "particle_velocities = np.random.uniform(-1, 1, size=(n, 3))\n",
    "particle_masses = np.random.uniform(-5, 5, size=(n,1))\n",
    "\n",
    "# Write data to HDF5\n",
    "try:\n",
    "    data_file = h5py.File('dataset', 'w')\n",
    "except:\n",
    "    data_file = h5py.File('dataset', 'a')\n",
    "    \n",
    "data_file.create_dataset('particle_positions', data=particle_positions)\n",
    "data_file.create_dataset('particle_velocities', data=particle_velocities)\n",
    "data_file.create_dataset('particle_masses', data=particle_masses)\n",
    "data_file.close()"
   ]
  },
  {
   "cell_type": "code",
   "execution_count": 56,
   "metadata": {},
   "outputs": [
    {
     "name": "stdout",
     "output_type": "stream",
     "text": [
      "Keys: ['particle_masses', 'particle_positions', 'particle_velocities']\n",
      "Position: 1.49025571553 , 5.47273581903 , 4.91836688836\n",
      "Position: 3.32871769568 , -4.6611721261 , -9.94438699023\n",
      "Position: 9.13267818378 , 0.18642150246 , 1.15789817064\n"
     ]
    }
   ],
   "source": [
    "import h5py\n",
    "\n",
    "###################\n",
    "#NAME OF HDF5 FILE#\n",
    "###################\n",
    "filename = 'dataset'\n",
    "data_file = h5py.File(filename, 'r')\n",
    "\n",
    "# List all groups\n",
    "print(\"Keys: %s\" % list(data_file.keys()))\n",
    "a_group_key = list(data_file.keys())[0]\n",
    "\n",
    "# Get the data\n",
    "positions = list(data_file['particle_positions'])\n",
    "velocities = list(data_file['particle_velocities'])\n",
    "masses = list(data_file['particle_masses'])\n",
    "\n",
    "particles = []\n",
    "#Build particles from HDF5 data\n",
    "for i in range (len(positions)):\n",
    "    particle = Particle(positions[i][0], positions[i][1], positions[i][2], \n",
    "                        velocities[i][0], velocities[i][1], velocities[i][2],\n",
    "                        masses[i])\n",
    "    particles.append(particle)\n",
    "\n",
    "for particle in particles:\n",
    "    particle.print_particle()\n",
    "    \n",
    "data_file.close()"
   ]
  },
  {
   "cell_type": "code",
   "execution_count": null,
   "metadata": {
    "collapsed": true
   },
   "outputs": [],
   "source": []
  }
 ],
 "metadata": {
  "kernelspec": {
   "display_name": "Python 3",
   "language": "python",
   "name": "python3"
  },
  "language_info": {
   "codemirror_mode": {
    "name": "ipython",
    "version": 3
   },
   "file_extension": ".py",
   "mimetype": "text/x-python",
   "name": "python",
   "nbconvert_exporter": "python",
   "pygments_lexer": "ipython3",
   "version": "3.6.3"
  }
 },
 "nbformat": 4,
 "nbformat_minor": 2
}
