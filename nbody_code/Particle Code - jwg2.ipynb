{
 "cells": [
  {
   "cell_type": "code",
   "execution_count": 34,
   "metadata": {
    "scrolled": false
   },
   "outputs": [],
   "source": [
    "import h5py\n",
    "\n",
    "# Create random data\n",
    "import numpy as np\n",
    "\n",
    "particle_positions = np.random.uniform(-10, 10, size=(10, 3))\n",
    "particle_positions = np.asarray([[1,1,1],[2,2,2]])\n",
    "particle_velocities = np.random.uniform(-1, 1, size=(10, 3))\n",
    "particle_masses = np.random.uniform(-5, 5, size=(10,1))\n",
    "\n",
    "# Write data to HDF5\n",
    "try:\n",
    "    data_file = h5py.File('file.hdf5', 'w')\n",
    "except:\n",
    "    data_file = h5py.File('file.hdf5', 'a')\n",
    "    \n",
    "data_file.create_dataset('particle_positions', data=particle_positions)\n",
    "data_file.close()"
   ]
  },
  {
   "cell_type": "code",
   "execution_count": 36,
   "metadata": {},
   "outputs": [
    {
     "name": "stdout",
     "output_type": "stream",
     "text": [
      "Keys: ['particle_positions']\n"
     ]
    }
   ],
   "source": [
    "import h5py\n",
    "filename = 'file.hdf5'\n",
    "data_file = h5py.File(filename, 'r')\n",
    "\n",
    "# List all groups\n",
    "print(\"Keys: %s\" % list(data_file.keys()))\n",
    "a_group_key = list(data_file.keys())[0]\n",
    "\n",
    "# Get the data\n",
    "data = list(data_file[a_group_key])\n",
    "data_file.close()"
   ]
  },
  {
   "cell_type": "code",
   "execution_count": null,
   "metadata": {
    "collapsed": true
   },
   "outputs": [],
   "source": []
  }
 ],
 "metadata": {
  "kernelspec": {
   "display_name": "Python 3",
   "language": "python",
   "name": "python3"
  },
  "language_info": {
   "codemirror_mode": {
    "name": "ipython",
    "version": 3
   },
   "file_extension": ".py",
   "mimetype": "text/x-python",
   "name": "python",
   "nbconvert_exporter": "python",
   "pygments_lexer": "ipython3",
   "version": "3.6.3"
  }
 },
 "nbformat": 4,
 "nbformat_minor": 2
}
