{
 "cells": [
  {
   "cell_type": "markdown",
   "metadata": {
    "collapsed": true
   },
   "source": []
  },
  {
   "cell_type": "code",
   "execution_count": null,
   "metadata": {
    "collapsed": true
   },
   "outputs": [],
   "source": [
    "#Lists are a simple data structure which act like they are named... as lists.\n",
    "#They are used to group items of any type (even other lists) together, and are easily modified."
   ]
  },
  {
   "cell_type": "code",
   "execution_count": 4,
   "metadata": {
    "collapsed": true
   },
   "outputs": [],
   "source": [
    "listExample = [1,2,3,[1,2,3],\"abc\"]"
   ]
  },
  {
   "cell_type": "code",
   "execution_count": 5,
   "metadata": {},
   "outputs": [
    {
     "data": {
      "text/plain": [
       "[1, 2, 3, [1, 2, 3], 'abc']"
      ]
     },
     "execution_count": 5,
     "metadata": {},
     "output_type": "execute_result"
    }
   ],
   "source": [
    "listExample"
   ]
  },
  {
   "cell_type": "code",
   "execution_count": 7,
   "metadata": {
    "collapsed": true
   },
   "outputs": [],
   "source": [
    "#Lists can be indexed and sliced to \"select\" portions of the whole"
   ]
  },
  {
   "cell_type": "code",
   "execution_count": 10,
   "metadata": {},
   "outputs": [
    {
     "data": {
      "text/plain": [
       "1"
      ]
     },
     "execution_count": 10,
     "metadata": {},
     "output_type": "execute_result"
    }
   ],
   "source": [
    "listExample[0] #returns the 0-indexed element"
   ]
  },
  {
   "cell_type": "code",
   "execution_count": 11,
   "metadata": {},
   "outputs": [
    {
     "data": {
      "text/plain": [
       "[2, 3]"
      ]
     },
     "execution_count": 11,
     "metadata": {},
     "output_type": "execute_result"
    }
   ],
   "source": [
    "listExample[1:3]  #returns the elements from 1-index up to but not including 3-index"
   ]
  },
  {
   "cell_type": "code",
   "execution_count": 12,
   "metadata": {
    "collapsed": true
   },
   "outputs": [],
   "source": [
    "#Because of its ability to change size, lists are very useful as stacks and queues,\n",
    "#though of course an item can be inserted or removed at any index."
   ]
  },
  {
   "cell_type": "code",
   "execution_count": 36,
   "metadata": {},
   "outputs": [
    {
     "data": {
      "text/plain": [
       "['Gary', 'Harry', 'Barry', 'Larry']"
      ]
     },
     "execution_count": 36,
     "metadata": {},
     "output_type": "execute_result"
    }
   ],
   "source": [
    "peopleQueue = [\"Harry\", \"Barry\", \"Larry\"]\n",
    "peopleQueue.insert(0, \"Gary\")\n",
    "print(peopleQueue)"
   ]
  },
  {
   "cell_type": "code",
   "execution_count": 37,
   "metadata": {},
   "outputs": [
    {
     "name": "stdout",
     "output_type": "stream",
     "text": [
      "Larry\n",
      "['Gary', 'Harry', 'Barry']\n"
     ]
    }
   ],
   "source": [
    "nextCustomer = peopleQueue.pop()\n",
    "print(nextCustomer)\n",
    "print(peopleQueue)"
   ]
  },
  {
   "cell_type": "code",
   "execution_count": 24,
   "metadata": {
    "collapsed": true
   },
   "outputs": [],
   "source": [
    "#Lists are also great for data-storage, manipulation, and calculation"
   ]
  },
  {
   "cell_type": "code",
   "execution_count": 45,
   "metadata": {},
   "outputs": [
    {
     "name": "stdout",
     "output_type": "stream",
     "text": [
      "[60, 77, 85, 86, 88, 90, 93, 95, 95, 95, 98]\n"
     ]
    }
   ],
   "source": [
    "courseGrades = [77,98,60,85,88,90,93,86,95,95,95]\n",
    "sortedGrades = courseGrades.copy()\n",
    "sortedGrades.sort()\n",
    "print(sortedGrades)"
   ]
  },
  {
   "cell_type": "code",
   "execution_count": 46,
   "metadata": {},
   "outputs": [
    {
     "name": "stdout",
     "output_type": "stream",
     "text": [
      "90\n"
     ]
    }
   ],
   "source": [
    "median = sortedGrades[int(len(sortedGrades)/2)] \n",
    "print(median)"
   ]
  },
  {
   "cell_type": "code",
   "execution_count": null,
   "metadata": {
    "collapsed": true
   },
   "outputs": [],
   "source": [
    "#You can iterate over the data to find specific information about it"
   ]
  },
  {
   "cell_type": "code",
   "execution_count": 47,
   "metadata": {},
   "outputs": [
    {
     "name": "stdout",
     "output_type": "stream",
     "text": [
      "87.45454545454545\n"
     ]
    }
   ],
   "source": [
    "sum = 0\n",
    "for grade in courseGrades:\n",
    "    sum += grade\n",
    "mean = (sum / len(courseGrades))\n",
    "print(mean)"
   ]
  },
  {
   "cell_type": "code",
   "execution_count": 61,
   "metadata": {},
   "outputs": [
    {
     "name": "stdout",
     "output_type": "stream",
     "text": [
      "Number of As: 6\n",
      "Number of Bs: 3\n",
      "Number of Cs: 1\n"
     ]
    }
   ],
   "source": [
    "freqA = 0\n",
    "freqB = 0\n",
    "freqC = 0\n",
    "for grade in courseGrades:\n",
    "    if grade >= 90: freqA += 1\n",
    "    elif grade >= 80: freqB += 1\n",
    "    elif grade >= 70: freqC += 1\n",
    "    \n",
    "print (\"Number of As:\", freqA)\n",
    "print (\"Number of Bs:\", freqB)\n",
    "print (\"Number of Cs:\", freqC)"
   ]
  },
  {
   "cell_type": "code",
   "execution_count": 6,
   "metadata": {
    "collapsed": true
   },
   "outputs": [],
   "source": [
    "#Performance testing\n",
    "import time as time"
   ]
  },
  {
   "cell_type": "code",
   "execution_count": 3,
   "metadata": {},
   "outputs": [
    {
     "name": "stdout",
     "output_type": "stream",
     "text": [
      "Average small append took: 4.887580871582031e-06 seconds.\n",
      "Average large append took: 1.3744831085205078e-07 seconds.\n",
      "Average stress append took: 1.2795159816741943e-07 seconds.\n"
     ]
    }
   ],
   "source": [
    "smallSize = 10\n",
    "largeSize = 10000\n",
    "stressSize = 10000000\n",
    "\n",
    "smallList = []\n",
    "largeList = []\n",
    "stressList = []\n",
    "\n",
    "begin = time.time()\n",
    "for i in range(smallSize):\n",
    "    smallList.append(i)\n",
    "end = time.time()\n",
    "\n",
    "smallAppendTime = (end-begin)/smallSize\n",
    "print(\"Average small append took:\", smallAppendTime, \"seconds.\")\n",
    "\n",
    "\n",
    "begin = time.time()\n",
    "for k in range(largeSize):\n",
    "    largeList.append(k)\n",
    "end = time.time()\n",
    "\n",
    "largeAppendTime = (end-begin)/largeSize\n",
    "print(\"Average large append took:\", largeAppendTime, \"seconds.\")\n",
    "\n",
    "\n",
    "begin = time.time()\n",
    "for l in range(stressSize):\n",
    "    stressList.append(l)\n",
    "end = time.time()\n",
    "\n",
    "stressAppendTime = (end-begin)/stressSize\n",
    "print(\"Average stress append took:\", stressAppendTime, \"seconds.\")\n"
   ]
  },
  {
   "cell_type": "code",
   "execution_count": 19,
   "metadata": {
    "collapsed": true
   },
   "outputs": [],
   "source": [
    "#The small append average was slightly longer, this is due\n",
    "#to the overhead being greater in proportion \n",
    "\n",
    "#Overall we can see very similar append times, which shows that the amortized\n",
    "#cost of appending does not depend on the size of the list.\n",
    "#Perhaps under the hood this is implemented as a linked list with a tail-pointer"
   ]
  },
  {
   "cell_type": "code",
   "execution_count": 4,
   "metadata": {},
   "outputs": [
    {
     "name": "stdout",
     "output_type": "stream",
     "text": [
      "Average small max took: 8.368492126464843e-07 seconds.\n",
      "Average large max took: 0.00016983985900878907 seconds.\n",
      "Average stress max took: 0.1470659112930298 seconds.\n"
     ]
    }
   ],
   "source": [
    "numTrials = 100\n",
    "\n",
    "begin = time.time()\n",
    "for n in range(numTrials):\n",
    "    max(smallList)\n",
    "end = time.time()\n",
    "\n",
    "smallMaxTime = (end-begin)/numTrials\n",
    "print(\"Average small max took:\", smallMaxTime, \"seconds.\")\n",
    "    \n",
    "    \n",
    "begin = time.time()\n",
    "for n in range(numTrials):\n",
    "    max(largeList)\n",
    "end = time.time()\n",
    "\n",
    "largeMaxTime = (end-begin)/numTrials\n",
    "print(\"Average large max took:\", largeMaxTime, \"seconds.\")\n",
    "\n",
    "\n",
    "begin = time.time()\n",
    "for n in range(numTrials):\n",
    "    max(stressList)\n",
    "end = time.time()\n",
    "\n",
    "stressMaxTime = (end-begin)/numTrials\n",
    "print(\"Average stress max took:\",stressMaxTime, \"seconds.\")\n",
    "    "
   ]
  },
  {
   "cell_type": "code",
   "execution_count": 10,
   "metadata": {},
   "outputs": [
    {
     "data": {
      "text/plain": [
       "8.368492126464843e-08"
      ]
     },
     "execution_count": 10,
     "metadata": {},
     "output_type": "execute_result"
    }
   ],
   "source": [
    "smallNTime = smallMaxTime/len(smallList)\n",
    "smallNTime"
   ]
  },
  {
   "cell_type": "code",
   "execution_count": 8,
   "metadata": {},
   "outputs": [
    {
     "data": {
      "text/plain": [
       "1.6983985900878908e-08"
      ]
     },
     "execution_count": 8,
     "metadata": {},
     "output_type": "execute_result"
    }
   ],
   "source": [
    "largeNTime = largeMaxTime/len(largeList)\n",
    "largeNTime"
   ]
  },
  {
   "cell_type": "code",
   "execution_count": 12,
   "metadata": {},
   "outputs": [
    {
     "data": {
      "text/plain": [
       "1.4706591129302978e-08"
      ]
     },
     "execution_count": 12,
     "metadata": {},
     "output_type": "execute_result"
    }
   ],
   "source": [
    "stressNTime = stressMaxTime/len(stressList)\n",
    "stressNTime"
   ]
  },
  {
   "cell_type": "code",
   "execution_count": 17,
   "metadata": {
    "collapsed": true
   },
   "outputs": [],
   "source": [
    "#By dividing the average time to find the max by the number of elements in each list\n",
    "#we can find the amount of time each took in proportion to the number of elements in each list\n",
    "#The max operation appears to run in O(N) time becauese the NTime for each is very close\n",
    "\n",
    "#This is expected, because you must search all elements to find the max\n",
    "\n",
    "#The small list's time is more greatly influenced by the overhead in running the operation, \n",
    "#but is still in the same order of magnitude"
   ]
  },
  {
   "cell_type": "code",
   "execution_count": null,
   "metadata": {
    "collapsed": true
   },
   "outputs": [],
   "source": [
    "\n",
    "\n",
    "\n",
    "\n"
   ]
  },
  {
   "cell_type": "code",
   "execution_count": 22,
   "metadata": {
    "collapsed": true
   },
   "outputs": [],
   "source": [
    "#Numpy arrays function much as arrays do in other languages like C,C++, and Java\n",
    "#Unlike lists they hold a single data-type, and are of fixed size\n",
    "#To perform size-changing operations like appending or removing an element, the \n",
    "#entire array must be copied into a new one of the desired size\n",
    "\n",
    "#The major advantage of these arrays is that they are memory efficient, requiring only\n",
    "#sizeof(element) * n storage in memory"
   ]
  },
  {
   "cell_type": "code",
   "execution_count": 21,
   "metadata": {
    "collapsed": true
   },
   "outputs": [],
   "source": [
    "import numpy as np"
   ]
  },
  {
   "cell_type": "code",
   "execution_count": 41,
   "metadata": {},
   "outputs": [
    {
     "name": "stdout",
     "output_type": "stream",
     "text": [
      "[ 1.   2.   3.   1.5  1.9]\n",
      "float64\n"
     ]
    }
   ],
   "source": [
    "#attempting to mix integers and floats converts all to floats\n",
    "a = np.array([1, 2, 3, 1.5, 1.9])\n",
    "print(a)\n",
    "print(a.dtype)"
   ]
  },
  {
   "cell_type": "code",
   "execution_count": 47,
   "metadata": {
    "collapsed": true
   },
   "outputs": [],
   "source": [
    "a = np.array([(1,2,3),(4,5,6)]) #can make an array of lists"
   ]
  },
  {
   "cell_type": "code",
   "execution_count": 49,
   "metadata": {},
   "outputs": [
    {
     "ename": "ValueError",
     "evalue": "setting an array element with a sequence.",
     "output_type": "error",
     "traceback": [
      "\u001b[0;31m---------------------------------------------------------------------------\u001b[0m",
      "\u001b[0;31mValueError\u001b[0m                                Traceback (most recent call last)",
      "\u001b[0;32m<ipython-input-49-dbc443b42b38>\u001b[0m in \u001b[0;36m<module>\u001b[0;34m()\u001b[0m\n\u001b[0;32m----> 1\u001b[0;31m \u001b[0mb\u001b[0m \u001b[0;34m=\u001b[0m \u001b[0mnp\u001b[0m\u001b[0;34m.\u001b[0m\u001b[0marray\u001b[0m\u001b[0;34m(\u001b[0m\u001b[0;34m[\u001b[0m\u001b[0;36m1\u001b[0m\u001b[0;34m,\u001b[0m\u001b[0;36m2\u001b[0m\u001b[0;34m,\u001b[0m\u001b[0;36m3\u001b[0m\u001b[0;34m,\u001b[0m \u001b[0;34m(\u001b[0m\u001b[0;36m4\u001b[0m\u001b[0;34m,\u001b[0m\u001b[0;36m5\u001b[0m\u001b[0;34m,\u001b[0m\u001b[0;36m6\u001b[0m\u001b[0;34m)\u001b[0m\u001b[0;34m]\u001b[0m\u001b[0;34m)\u001b[0m \u001b[0;31m#but not ints and lists\u001b[0m\u001b[0;34m\u001b[0m\u001b[0m\n\u001b[0m",
      "\u001b[0;31mValueError\u001b[0m: setting an array element with a sequence."
     ]
    }
   ],
   "source": [
    "b = np.array([1,2,3, (4,5,6)]) #but not ints and lists"
   ]
  },
  {
   "cell_type": "code",
   "execution_count": 26,
   "metadata": {
    "collapsed": true
   },
   "outputs": [],
   "source": [
    "smallArray = np.arange(10)\n",
    "largeArray = np.arange(10000)\n",
    "stressArray = np.arange(10000000)"
   ]
  },
  {
   "cell_type": "code",
   "execution_count": 27,
   "metadata": {},
   "outputs": [
    {
     "name": "stdout",
     "output_type": "stream",
     "text": [
      "Average small max took: 2.167224884033203e-06 seconds.\n",
      "Average large max took: 0.0007018733024597168 seconds.\n",
      "Average stress max took: 0.6054762053489685 seconds.\n"
     ]
    }
   ],
   "source": [
    "numTrials = 100\n",
    "\n",
    "begin = time.time()\n",
    "for n in range(numTrials):\n",
    "    max(smallArray)\n",
    "end = time.time()\n",
    "\n",
    "smallMaxTime = (end-begin)/numTrials\n",
    "print(\"Average small max took:\", smallMaxTime, \"seconds.\")\n",
    "    \n",
    "    \n",
    "begin = time.time()\n",
    "for n in range(numTrials):\n",
    "    max(largeArray)\n",
    "end = time.time()\n",
    "\n",
    "largeMaxTime = (end-begin)/numTrials\n",
    "print(\"Average large max took:\", largeMaxTime, \"seconds.\")\n",
    "\n",
    "\n",
    "begin = time.time()\n",
    "for n in range(numTrials):\n",
    "    max(stressArray)\n",
    "end = time.time()\n",
    "\n",
    "stressMaxTime = (end-begin)/numTrials\n",
    "print(\"Average stress max took:\",stressMaxTime, \"seconds.\")\n",
    "    "
   ]
  },
  {
   "cell_type": "code",
   "execution_count": 29,
   "metadata": {},
   "outputs": [
    {
     "name": "stdout",
     "output_type": "stream",
     "text": [
      "2.1672248840332032e-07\n",
      "7.018733024597168e-08\n",
      "6.054762053489685e-08\n"
     ]
    }
   ],
   "source": [
    "smallNTime = smallMaxTime/len(smallArray)\n",
    "print(smallNTime)\n",
    "\n",
    "largeNTime = largeMaxTime/len(largeArray)\n",
    "print(largeNTime)\n",
    "\n",
    "stressNTime = stressMaxTime/len(stressArray)\n",
    "print(stressNTime)"
   ]
  },
  {
   "cell_type": "code",
   "execution_count": 31,
   "metadata": {
    "collapsed": true
   },
   "outputs": [],
   "source": [
    "#This was surprising! While the max operation still appears to be O(N)\n",
    "#for Numpy arrays, it took significantly longer than the list\n",
    "\n",
    "#For comparison, the average stressListMax was .147 seconds\n",
    "#while the average stressArrayMax was .605 seconds!\n",
    "\n",
    "#I'm honstly not sure why this is the case, as it seems iterating \n",
    "#over an array fixed in memory would be faster than the list, which is probably\n",
    "#broken up into chunks across memory"
   ]
  },
  {
   "cell_type": "code",
   "execution_count": null,
   "metadata": {
    "collapsed": true
   },
   "outputs": [],
   "source": [
    "\n",
    "\n",
    "\n",
    "\n",
    "\n"
   ]
  },
  {
   "cell_type": "code",
   "execution_count": 2,
   "metadata": {
    "collapsed": true
   },
   "outputs": [],
   "source": [
    "#Dictionaries are used to associate keys of a type with values of a type\n",
    "#Ex. you could map student UINs as integers to a string of their name"
   ]
  },
  {
   "cell_type": "code",
   "execution_count": 35,
   "metadata": {},
   "outputs": [
    {
     "name": "stdout",
     "output_type": "stream",
     "text": [
      "{101: 'Fallout 3', 21: 'Fallout NV', 111: 'Fallout 4'}\n",
      "Fallout 3\n",
      "Fallout 4\n",
      "False\n"
     ]
    }
   ],
   "source": [
    "vaultGame = {101 : \"Fallout 3\", 21 : \"Fallout NV\", 111 : \"Fallout 4\"}\n",
    "print(vaultGame)\n",
    "print(vaultGame[101])\n",
    "print(vaultGame[111])\n",
    "print(vaultGame[21] == \"Fallout 3\")"
   ]
  },
  {
   "cell_type": "code",
   "execution_count": 6,
   "metadata": {
    "collapsed": true
   },
   "outputs": [],
   "source": [
    "#The really cool part about Python dictionaries is that they are implemented like hash\n",
    "#maps are in other languages, allowing O(1) lookup time! This is great if we are frequently \n",
    "#looking up data."
   ]
  },
  {
   "cell_type": "code",
   "execution_count": 18,
   "metadata": {},
   "outputs": [
    {
     "name": "stdout",
     "output_type": "stream",
     "text": [
      "Small Average Lookup: 9.002685546875e-07\n",
      "Medium Average Lookup: 5.860328674316407e-07\n",
      "Large Average Lookup: 4.1675567626953125e-07\n"
     ]
    }
   ],
   "source": [
    "smallDict = {}\n",
    "mediumDict = {}\n",
    "largeDict = {}\n",
    "\n",
    "for i in range(10):\n",
    "    smallDict[i] = \"Testing\"\n",
    "for i in range(10000):\n",
    "    mediumDict[i] = \"Dictionary\"\n",
    "for i in range(100000000):\n",
    "    largeDict[i] =  \"Lookup Time\"\n",
    "\n",
    "numIterations = 1000\n",
    "\n",
    "begin = time.time()\n",
    "for i in range(numIterations):\n",
    "    temp = smallDict[5]\n",
    "end = time.time()\n",
    "smallAverageLookup = (end-begin)/numIterations\n",
    "print(\"Small Average Lookup:\", smallAverageLookup)\n",
    "\n",
    "begin = time.time()\n",
    "for i in range(numIterations):\n",
    "    temp = mediumDict[5000]\n",
    "end = time.time()\n",
    "mediumAverageLookup = (end-begin)/numIterations\n",
    "print(\"Medium Average Lookup:\", mediumAverageLookup)\n",
    "\n",
    "begin = time.time()\n",
    "for i in range(numIterations):\n",
    "    temp = largeDict[5000000]\n",
    "end = time.time()\n",
    "largeAverageLookup = (end-begin)/numIterations\n",
    "print(\"Large Average Lookup:\", largeAverageLookup)"
   ]
  },
  {
   "cell_type": "code",
   "execution_count": 19,
   "metadata": {
    "collapsed": true
   },
   "outputs": [],
   "source": [
    "#As expected the time to lookup a value in a Python Dict is relatively constant \n",
    "#for all dict sizes when averaged over a large number of iterations.\n",
    "\n",
    "#This is because the hashing functions should take constant time, and then allow\n",
    "#constant time access to the underlying array."
   ]
  },
  {
   "cell_type": "code",
   "execution_count": 1,
   "metadata": {
    "collapsed": true
   },
   "outputs": [],
   "source": [
    "#This constant access time also allows us to check if a hash contains an item in constant time"
   ]
  },
  {
   "cell_type": "code",
   "execution_count": 3,
   "metadata": {
    "collapsed": true
   },
   "outputs": [],
   "source": [
    "containsDict = {}\n",
    "for i in range(1000000):\n",
    "    containsDict[i] = \"Testing... 123\"\n",
    "\n",
    "containsList = range(1000000)"
   ]
  },
  {
   "cell_type": "code",
   "execution_count": 8,
   "metadata": {},
   "outputs": [
    {
     "name": "stdout",
     "output_type": "stream",
     "text": [
      "Average list-contains time: 1.365022659301758e-07\n",
      "Average hash-contans time: 8.319640159606934e-08\n"
     ]
    }
   ],
   "source": [
    "numTrials = 1000000\n",
    "import time as time\n",
    "begin = time.time()\n",
    "for i in range(numTrials):\n",
    "    if 500000 in containsList:\n",
    "        continue\n",
    "end = time.time()\n",
    "\n",
    "averageListContains = (end-begin)/numTrials\n",
    "print(\"Average list-contains time:\", averageListContains)\n",
    "\n",
    "begin = time.time()\n",
    "for i in range(numTrials):\n",
    "    if 500000 in containsDict:\n",
    "        continue\n",
    "end = time.time()\n",
    "\n",
    "averageHashContains = (end-begin)/numTrials\n",
    "print(\"Average hash-contans time:\", averageHashContains)"
   ]
  },
  {
   "cell_type": "code",
   "execution_count": null,
   "metadata": {
    "collapsed": true
   },
   "outputs": [],
   "source": [
    "#A significant difference in time\n",
    "\n",
    "\n",
    "\n"
   ]
  },
  {
   "cell_type": "code",
   "execution_count": 13,
   "metadata": {},
   "outputs": [],
   "source": [
    "#Sets are used to keep track of, as the name implies, sets of things\n",
    "#More specifically they are \"unordered collections of unique items\"\n",
    "#They can be used to organize things by placing them in the same category, or different categories\n"
   ]
  },
  {
   "cell_type": "code",
   "execution_count": 15,
   "metadata": {},
   "outputs": [],
   "source": [
    "csMajors = set(['CS Eng', 'CS + Astro', 'CS + Math', 'CS + Statistics'])\n",
    "astroMajors = set(['Astronomy', 'CS + Astro', 'Astrophysics', 'Astrochemistry'])"
   ]
  },
  {
   "cell_type": "code",
   "execution_count": 19,
   "metadata": {},
   "outputs": [
    {
     "name": "stdout",
     "output_type": "stream",
     "text": [
      "{'CS + Astro'}\n"
     ]
    }
   ],
   "source": [
    "#we can make a set of all overlap using intersection '&'\n",
    "coolestMajors = csMajors & astroMajors\n",
    "print(coolestMajors)"
   ]
  },
  {
   "cell_type": "code",
   "execution_count": 20,
   "metadata": {},
   "outputs": [
    {
     "name": "stdout",
     "output_type": "stream",
     "text": [
      "{'Astrochemistry', 'CS Eng', 'CS + Math', 'Astronomy', 'Astrophysics', 'CS + Astro', 'CS + Statistics'}\n"
     ]
    }
   ],
   "source": [
    "#or a set of all the elements from each (with no repetition) using union '|'\n",
    "unionSet = csMajors | astroMajors\n",
    "print(unionSet)"
   ]
  },
  {
   "cell_type": "code",
   "execution_count": 22,
   "metadata": {},
   "outputs": [
    {
     "name": "stdout",
     "output_type": "stream",
     "text": [
      "{'Astrochemistry', 'Astronomy', 'Astrophysics'}\n"
     ]
    }
   ],
   "source": [
    "#we can also get a subset from A that has all elements from A that are not in B using 'A-B'\n",
    "differenceSet = astroMajors - csMajors\n",
    "print(differenceSet)"
   ]
  },
  {
   "cell_type": "code",
   "execution_count": 54,
   "metadata": {
    "collapsed": true
   },
   "outputs": [],
   "source": [
    "#performance testing\n",
    "smallSet = set(range(10))\n",
    "mediumSet = set(range(10000))\n",
    "largeSet = set(range(10000000))"
   ]
  },
  {
   "cell_type": "code",
   "execution_count": 56,
   "metadata": {},
   "outputs": [
    {
     "name": "stdout",
     "output_type": "stream",
     "text": [
      "Small set average lookup time: 1.2178897857666017e-07\n",
      "Medium set average lookup time: 1.5778541564941408e-07\n",
      "Large set average lookup time: 1.5339374542236327e-07\n"
     ]
    }
   ],
   "source": [
    "numIterations = 100000\n",
    "\n",
    "begin = time.time()\n",
    "for i in range(numIterations):\n",
    "    5 in smallSet\n",
    "end = time.time()\n",
    "smallSetLookup = (end-begin)/numIterations\n",
    "print(\"Small set average lookup time:\", smallSetLookup)\n",
    "\n",
    "begin = time.time()\n",
    "for i in range(numIterations):\n",
    "    5000 in mediumSet\n",
    "end = time.time()\n",
    "mediumSetLookup = (end-begin)/numIterations\n",
    "print(\"Medium set average lookup time:\", mediumSetLookup)\n",
    "\n",
    "begin = time.time()\n",
    "for i in range(numIterations):\n",
    "    500000 in largeSet\n",
    "end = time.time()\n",
    "largeSetLookup = (end-begin)/numIterations\n",
    "print(\"Large set average lookup time:\", largeSetLookup)"
   ]
  },
  {
   "cell_type": "code",
   "execution_count": 45,
   "metadata": {
    "collapsed": true
   },
   "outputs": [],
   "source": [
    "#This result implies constant time lookup for sets!\n",
    "#Sets do indeed have constant lookup time, because they are implemented using hash tables!"
   ]
  },
  {
   "cell_type": "code",
   "execution_count": 32,
   "metadata": {
    "collapsed": true
   },
   "outputs": [],
   "source": [
    "#Having taken CS225 - Data Structures, not much about the results surprised me, with the \n",
    "#exception of the faster iteration time for lists than Numpy arrays! The tradeoffs between\n",
    "#array-based, linked-list based, and hashtable based datastructures is a really cool topic.\n",
    "\n",
    "#Linked-list datastructures provide easy append and remove operations, given a pointer to the \n",
    "#element you want to remove, but the tradeoff is O(N) searching, and the overhead of pointers\n",
    "#for every link in the list (two if it's doubly linked)\n",
    "\n",
    "#Array-based structures are great because they are memory efficient, and allow you to access\n",
    "#any element given its index in constant time, as well as perform great searching algorithms,\n",
    "#but adding and removing elements can be a major\n",
    "#hassle. Having to reallocate space and copy memory every time you want to make changes to the size\n",
    "#is not great if you are performing those operations frequently.\n",
    "\n",
    "#Hash based systems are cool too, giving you constant time access with any key type! It becomes\n",
    "#a breeze to check if your hash-based-dictionary or set contains an element. This power comes\n",
    "#with the price of large memory overhead, and that fact that your structure is unordered (unless \n",
    "# you sort it, as sets do)."
   ]
  },
  {
   "cell_type": "code",
   "execution_count": 37,
   "metadata": {
    "collapsed": true
   },
   "outputs": [],
   "source": [
    "#########################\n",
    "#Assignemt doc questions#\n",
    "#########################"
   ]
  },
  {
   "cell_type": "code",
   "execution_count": null,
   "metadata": {
    "collapsed": true
   },
   "outputs": [],
   "source": [
    "#1- if you know the size of your strucure in advance, and know it will not likely change frequently,\n",
    "# a Numpy-based array might be your best bet because of the search/sort algorithms, efficient memory,\n",
    "# and constant time access to an index."
   ]
  },
  {
   "cell_type": "code",
   "execution_count": 58,
   "metadata": {
    "collapsed": true
   },
   "outputs": [],
   "source": [
    "#2 - if you want to have different data-types in your structure, a List would be a wise choice,\n",
    "# because you can put any kind of type into it you want! This is in contrast to Numpy arrays, which\n",
    "# do not allow you this freedom, and may change your data to be all of one type if it can. You can also use\n",
    "# dicts and sets, because unlike other languages, Python will simply call the hash of whatever key you put in, \n",
    "# allowing the user to create dicts of mixed-key types."
   ]
  },
  {
   "cell_type": "code",
   "execution_count": 74,
   "metadata": {
    "collapsed": true
   },
   "outputs": [],
   "source": [
    "#3 - if you want to remove things from the middle or end, dicts and sets provide average-case\n",
    "# constant removal time from any index. Lists will have constant time removal from the beginning, end, or \n",
    "# any element that you have a pointer to. If you wish to remove from a list by index though, it could take \n",
    "# O(N) time"
   ]
  },
  {
   "cell_type": "code",
   "execution_count": null,
   "metadata": {
    "collapsed": true
   },
   "outputs": [],
   "source": [
    "#4 - if you want to quickly perform mathematics on specific elements, you should use arrays and dicts\n",
    "# which can offer constant access time to individual elements. However, if you want to do some operation on every\n",
    "# element in the structure, it will take O(N) time for all structures."
   ]
  }
 ],
 "metadata": {
  "kernelspec": {
   "display_name": "Python 3",
   "language": "python",
   "name": "python3"
  },
  "language_info": {
   "codemirror_mode": {
    "name": "ipython",
    "version": 3
   },
   "file_extension": ".py",
   "mimetype": "text/x-python",
   "name": "python",
   "nbconvert_exporter": "python",
   "pygments_lexer": "ipython3",
   "version": "3.6.3"
  }
 },
 "nbformat": 4,
 "nbformat_minor": 2
}
